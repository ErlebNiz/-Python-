{
 "cells": [
  {
   "cell_type": "markdown",
   "id": "e932308b-1a48-4232-a91e-ce02a40b0d15",
   "metadata": {},
   "source": [
    "### Задание 1"
   ]
  },
  {
   "cell_type": "code",
   "execution_count": 4,
   "id": "0b036ce4-3e6b-4a14-b3e6-d4ee4d0fbcb7",
   "metadata": {},
   "outputs": [],
   "source": [
    "ids = {'user1': [213, 213, 213, 15, 213], \n",
    "       'user2': [54, 54, 119, 119, 119], \n",
    "       'user3': [213, 98, 98, 35]}\n",
    "\n",
    "def get_geo_id(ids):\n",
    "    unique_geo_id = set()\n",
    "\n",
    "    for geo_id in ids.values():\n",
    "        unique_geo_id.update(geo_id)\n",
    "\n",
    "    return unique_geo_id\n"
   ]
  },
  {
   "cell_type": "code",
   "execution_count": 5,
   "id": "21399f8d-a071-4376-aa5a-e38dfec832e6",
   "metadata": {},
   "outputs": [
    {
     "data": {
      "text/plain": [
       "{15, 35, 54, 98, 119, 213}"
      ]
     },
     "execution_count": 5,
     "metadata": {},
     "output_type": "execute_result"
    }
   ],
   "source": [
    "get_geo_id(ids)"
   ]
  },
  {
   "cell_type": "markdown",
   "id": "2b45563c-d652-48bf-b24b-aaaafffa45e1",
   "metadata": {},
   "source": [
    "### Задание 2"
   ]
  },
  {
   "cell_type": "code",
   "execution_count": 15,
   "id": "120463e6-47b3-49f2-bf06-bfab269b16af",
   "metadata": {},
   "outputs": [],
   "source": [
    "queries = [\n",
    "    'смотреть сериалы онлайн',\n",
    "    'новости спорта',\n",
    "    'афиша кино',\n",
    "    'курс доллара',\n",
    "    'сериалы этим летом',\n",
    "    'курс по питону',\n",
    "    'сериалы про спорт',\n",
    "]\n",
    "\n",
    "def get_words_distribution(queries):\n",
    "    \n",
    "    word_count_distr = {}\n",
    "\n",
    "    for query in queries:\n",
    "        word_count = len(query.split(' '))\n",
    "        if word_count in word_count_distr:\n",
    "            word_count_distr[word_count] += 1\n",
    "        else:\n",
    "            word_count_distr[word_count] = 1\n",
    "    \n",
    "    total_queries = len(queries)\n",
    "\n",
    "    for word_count, count in sorted(word_count_distr.items()):\n",
    "        per = (count / total_queries) * 100\n",
    "        \n",
    "        print(f\"Поисковых запросов, содержащих {word_count} слов(а): {per:.2f}%\")\n",
    "        \n"
   ]
  },
  {
   "cell_type": "code",
   "execution_count": 16,
   "id": "59433202-d782-4489-9711-4465a6af31bf",
   "metadata": {},
   "outputs": [
    {
     "name": "stdout",
     "output_type": "stream",
     "text": [
      "Поисковых запросов, содержащих 2 слов(а): 42.86%\n",
      "Поисковых запросов, содержащих 3 слов(а): 57.14%\n"
     ]
    }
   ],
   "source": [
    "get_words_distribution(queries)"
   ]
  },
  {
   "cell_type": "markdown",
   "id": "bb55483e-236a-4c66-a943-d1b2da19c69a",
   "metadata": {},
   "source": [
    "### Задание 3"
   ]
  },
  {
   "cell_type": "code",
   "execution_count": 19,
   "id": "12e4aa5f-9725-44f5-9108-24207365ab19",
   "metadata": {},
   "outputs": [],
   "source": [
    "results = {\n",
    "    'vk': {'revenue': 103, 'cost': 98},\n",
    "    'yandex': {'revenue': 179, 'cost': 153},\n",
    "    'facebook': {'revenue': 103, 'cost': 110},\n",
    "    'adwords': {'revenue': 35, 'cost': 34},\n",
    "    'twitter': {'revenue': 11, 'cost': 24},\n",
    "}\n",
    "\n",
    "def calculate_roi(results):\n",
    "    for sns, data in results.items():\n",
    "        revenue = data['revenue']\n",
    "        cost = data['cost']\n",
    "        roi = ((revenue / cost) - 1) * 100\n",
    "        data['ROI'] = round(roi, 2)\n",
    "    return results"
   ]
  },
  {
   "cell_type": "code",
   "execution_count": 20,
   "id": "72b3c1d2-c50f-4eb2-a080-e34dbfe0d43d",
   "metadata": {},
   "outputs": [
    {
     "data": {
      "text/plain": [
       "{'vk': {'revenue': 103, 'cost': 98, 'ROI': 5.1},\n",
       " 'yandex': {'revenue': 179, 'cost': 153, 'ROI': 16.99},\n",
       " 'facebook': {'revenue': 103, 'cost': 110, 'ROI': -6.36},\n",
       " 'adwords': {'revenue': 35, 'cost': 34, 'ROI': 2.94},\n",
       " 'twitter': {'revenue': 11, 'cost': 24, 'ROI': -54.17}}"
      ]
     },
     "execution_count": 20,
     "metadata": {},
     "output_type": "execute_result"
    }
   ],
   "source": [
    "calculate_roi(results)"
   ]
  },
  {
   "cell_type": "markdown",
   "id": "be20ae78-ff4e-42c4-8464-516b9bd97360",
   "metadata": {},
   "source": [
    "### Задание 4"
   ]
  },
  {
   "cell_type": "code",
   "execution_count": 28,
   "id": "2c8f5120-3bdf-4448-aae3-c528f599368f",
   "metadata": {},
   "outputs": [],
   "source": [
    "stats = {'facebook': 55, 'yandex': 115, 'vk': 120, 'google': 99, 'email': 42, 'ok': 98}\n",
    "\n",
    "def get_max_sales(stats):\n",
    "    max_seals = max(stats, key=stats.get)\n",
    "    \n",
    "    return f\"Максимальный объем продаж на рекламном канале: {max_seals}\""
   ]
  },
  {
   "cell_type": "code",
   "execution_count": 29,
   "id": "dd902e10-2900-4dd4-92f6-7ee46d3b91aa",
   "metadata": {},
   "outputs": [
    {
     "data": {
      "text/plain": [
       "'Максимальный объем продаж на рекламном канале: vk'"
      ]
     },
     "execution_count": 29,
     "metadata": {},
     "output_type": "execute_result"
    }
   ],
   "source": [
    "get_max_sales(stats)"
   ]
  },
  {
   "cell_type": "markdown",
   "id": "88c70ce2-ad7f-4873-8806-79aeb73e0607",
   "metadata": {},
   "source": [
    "### Задание 5"
   ]
  },
  {
   "cell_type": "code",
   "execution_count": 31,
   "id": "1d38b974-b05e-4b47-b1c5-a8986e57a8db",
   "metadata": {},
   "outputs": [],
   "source": [
    "def create_nested_dict(my_list):\n",
    "    if not my_list:\n",
    "        return {}\n",
    "    \n",
    "    if len(my_list) == 1:\n",
    "        return my_list[0]\n",
    "    return {my_list[0]: create_nested_dict(my_list[1:])}"
   ]
  },
  {
   "cell_type": "code",
   "execution_count": 32,
   "id": "1a1bb701-d7a9-4480-ac57-f5747f437048",
   "metadata": {},
   "outputs": [
    {
     "data": {
      "text/plain": [
       "{'a': {'b': {'c': {'d': {'e': 'f'}}}}}"
      ]
     },
     "execution_count": 32,
     "metadata": {},
     "output_type": "execute_result"
    }
   ],
   "source": [
    "my_list = ['a', 'b', 'c', 'd', 'e', 'f']\n",
    "\n",
    "create_nested_dict(my_list)"
   ]
  },
  {
   "cell_type": "code",
   "execution_count": null,
   "id": "f91c7dcb-32f9-4f6c-b8b1-cdb704cbc5ab",
   "metadata": {},
   "outputs": [],
   "source": []
  }
 ],
 "metadata": {
  "kernelspec": {
   "display_name": "Python 3 (ipykernel)",
   "language": "python",
   "name": "python3"
  },
  "language_info": {
   "codemirror_mode": {
    "name": "ipython",
    "version": 3
   },
   "file_extension": ".py",
   "mimetype": "text/x-python",
   "name": "python",
   "nbconvert_exporter": "python",
   "pygments_lexer": "ipython3",
   "version": "3.9.19"
  }
 },
 "nbformat": 4,
 "nbformat_minor": 5
}
