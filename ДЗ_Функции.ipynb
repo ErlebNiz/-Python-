{
 "cells": [
  {
   "cell_type": "code",
   "execution_count": 17,
   "id": "8ed419af-98b5-4883-9ac9-b77f390d6e4a",
   "metadata": {},
   "outputs": [],
   "source": [
    "documents = [\n",
    "    {'type': 'passport', 'number': '2207 876234', 'name': 'Василий Гупкин'},\n",
    "    {'type': 'invoice', 'number': '11-2', 'name': 'Геннадий Покемонов'},\n",
    "    {'type': 'insurance', 'number': '10006', 'name': 'Аристарх Павлов'}\n",
    "]\n",
    "\n",
    "directories = {\n",
    "    '1': ['2207 876234', '11-2'],\n",
    "    '2': ['10006'],\n",
    "    '3': []\n",
    "}"
   ]
  },
  {
   "cell_type": "markdown",
   "id": "ce6d46e4-59d4-48ac-919a-da2db2dae4af",
   "metadata": {},
   "source": [
    "### Задание 1"
   ]
  },
  {
   "cell_type": "markdown",
   "id": "6675ea84-c056-46d3-85ca-e045a57b93ae",
   "metadata": {},
   "source": [
    "#### Пункт 1. Поиск владельца документа по его номеру"
   ]
  },
  {
   "cell_type": "code",
   "execution_count": 206,
   "id": "f71cc44f-3c00-472a-9831-a608cd7079a5",
   "metadata": {},
   "outputs": [],
   "source": [
    "def get_owner(doc_number):\n",
    "    for document in documents:\n",
    "        if document[\"number\"] == doc_number:\n",
    "            return f\"Владелец документа: {document['name']}\"\n",
    "    return \"Документ не найден в базе\""
   ]
  },
  {
   "cell_type": "code",
   "execution_count": 195,
   "id": "ac9b7634-3c8b-466b-998c-167c44f0d69d",
   "metadata": {},
   "outputs": [
    {
     "data": {
      "text/plain": [
       "'Документ не найден в базе'"
      ]
     },
     "execution_count": 195,
     "metadata": {},
     "output_type": "execute_result"
    }
   ],
   "source": [
    "get_owner(12321)"
   ]
  },
  {
   "cell_type": "markdown",
   "id": "ed57a522-f62c-440d-9b13-fcb2b16e4848",
   "metadata": {},
   "source": [
    "#### Пункт 2. Поиск полки по номеру документа"
   ]
  },
  {
   "cell_type": "code",
   "execution_count": 207,
   "id": "6c354e09-18b3-494a-9f7f-3e45b1684a0c",
   "metadata": {},
   "outputs": [],
   "source": [
    "def get_shelf(doc_number):\n",
    "\n",
    "    for shelf, docs in directories.items():\n",
    "        if doc_number in docs:\n",
    "            return f\"Документ хранится на полке: {shelf}\"\n",
    "    return \"Документ не найден в базе\""
   ]
  },
  {
   "cell_type": "markdown",
   "id": "b18b6433-dbea-4541-b96c-a4d1b0b33709",
   "metadata": {},
   "source": [
    "#### Пункт 3. Вывод полной информации по всем документам"
   ]
  },
  {
   "cell_type": "code",
   "execution_count": 208,
   "id": "f0a4be7d-9935-42e3-90bd-f3eab098f397",
   "metadata": {},
   "outputs": [],
   "source": [
    "def list_all_documents():\n",
    "    for doc in documents:\n",
    "        shelf = find_shelf(doc['number'])\n",
    "        print(f\"№: {doc['number']}, тип: {doc['type']}, владелец: {doc['name']}, полка хранения: {shelf}\")\n"
   ]
  },
  {
   "cell_type": "markdown",
   "id": "b298960c-edc5-43cc-be20-15df9b126a9f",
   "metadata": {},
   "source": [
    "#### Пункт 4. Добавление новой полки"
   ]
  },
  {
   "cell_type": "code",
   "execution_count": 209,
   "id": "9b0c32bb-94dd-4334-be58-e0f1bfbf84d4",
   "metadata": {},
   "outputs": [],
   "source": [
    "def add_new_shelf(shelf_number):\n",
    "    if shelf_number in directories:\n",
    "        return f\"Такая полка уже существует. Текущий перечень полок: {', '.join(directories.keys())}.\"\n",
    "    else:\n",
    "        directories[shelf_number] = []\n",
    "        return f\"Полка добавлена. Текущий перечень полок: {', '.join(directories.keys())}.\"\n"
   ]
  },
  {
   "cell_type": "markdown",
   "id": "1f276dbf-2cfc-4274-b4a8-5268fd0452cd",
   "metadata": {},
   "source": [
    "#### Пункт 5. Удаление полки"
   ]
  },
  {
   "cell_type": "code",
   "execution_count": 210,
   "id": "94f958d7-c557-4dbf-8931-0d64cf082987",
   "metadata": {},
   "outputs": [],
   "source": [
    "def delete_shelf(shelf_number):\n",
    "    if shelf_number not in directories:\n",
    "        return f\"Такой полки не существует. Текущий перечень полок: {', '.join(directories.keys())}.\"\n",
    "    elif directories[shelf_number]:\n",
    "        return f\"На полке есть документы, удалите их перед удалением полки. Текущий перечень полок: {', '.join(directories.keys())}.\"\n",
    "    else:\n",
    "        del directories[shelf_number]\n",
    "        return f\"Полка удалена. Текущий перечень полок: {', '.join(directories.keys())}.\"\n"
   ]
  },
  {
   "cell_type": "markdown",
   "id": "c7d9489b-5319-4b2f-853a-cb7b752659de",
   "metadata": {},
   "source": [
    "### Задание 2"
   ]
  },
  {
   "cell_type": "markdown",
   "id": "35436601-8655-4500-821b-ef45f3e957c1",
   "metadata": {},
   "source": [
    "#### Пункт 1. Добавление нового документа"
   ]
  },
  {
   "cell_type": "code",
   "execution_count": 211,
   "id": "30df29ab-69fd-4cbe-8b32-faf6e6e4b012",
   "metadata": {},
   "outputs": [],
   "source": [
    "def add_document(doc_number, doc_type, doc_owner, shelf_number):\n",
    "    if shelf_number not in directories:\n",
    "        return \"Такой полки не существует. Добавьте полку командой ads.\"\n",
    "    else:\n",
    "        documents.append({'type': doc_type, 'number': doc_number, 'name': doc_owner})\n",
    "        directories[shelf_number].append(doc_number)\n",
    "        return \"Документ добавлен.\"\n"
   ]
  },
  {
   "cell_type": "markdown",
   "id": "fe5135ab-1dc5-4116-a4cb-c177ae1de862",
   "metadata": {},
   "source": [
    "#### Пункт 2. Удаление документа"
   ]
  },
  {
   "cell_type": "code",
   "execution_count": 212,
   "id": "ce8f42e5-4224-4d5e-8d79-fb52dc5746e9",
   "metadata": {},
   "outputs": [],
   "source": [
    "def delete_document(doc_number):\n",
    "    for doc in documents:\n",
    "        if doc['number'] == doc_number:\n",
    "            documents.remove(doc)\n",
    "            for shelf_docs in directories.values():\n",
    "                if doc_number in shelf_docs:\n",
    "                    shelf_docs.remove(doc_number)\n",
    "            return \"Документ удален.\"\n",
    "    return \"Документ не найден в базе.\""
   ]
  },
  {
   "cell_type": "markdown",
   "id": "de42aa40-e3a6-4d8d-8536-429fa21935df",
   "metadata": {},
   "source": [
    "#### Пункт 3. Перемещение документа на другую полку"
   ]
  },
  {
   "cell_type": "code",
   "execution_count": 44,
   "id": "a53ed979-0534-48e3-97bb-ac552445d48b",
   "metadata": {},
   "outputs": [],
   "source": [
    "def move_document(doc_number, target_shelf):\n",
    "    if target_shelf not in directories:\n",
    "        return f\"Такой полки не существует. Текущий перечень полок: {', '.join(directories.keys())}.\"\n",
    "    for shelf, docs in directories.items():\n",
    "        if doc_number in docs:\n",
    "            docs.remove(doc_number)\n",
    "            directories[target_shelf].append(doc_number)\n",
    "            return \"Документ перемещен.\"\n",
    "    return \"Документ не найден в базе.\""
   ]
  },
  {
   "cell_type": "markdown",
   "id": "9de2bff3-307e-465c-8276-c9d5b97b8b90",
   "metadata": {},
   "source": [
    "### Результат"
   ]
  },
  {
   "cell_type": "code",
   "execution_count": 213,
   "id": "dc6b9bd8-7e91-4fcd-8b21-b2f3c2e2988d",
   "metadata": {},
   "outputs": [
    {
     "name": "stdin",
     "output_type": "stream",
     "text": [
      "Введите команду:  p\n",
      "Введите номер документа:  1244\n"
     ]
    },
    {
     "name": "stdout",
     "output_type": "stream",
     "text": [
      "Результат: Документ не найден в базе\n"
     ]
    },
    {
     "name": "stdin",
     "output_type": "stream",
     "text": [
      "Введите команду:  q\n"
     ]
    }
   ],
   "source": [
    "def main():\n",
    "    while True:\n",
    "        command = input(\"Введите команду: \")\n",
    "\n",
    "        if command == \"p\":\n",
    "            doc_number = input(\"Введите номер документа: \")\n",
    "            owner = get_owner(doc_number)\n",
    "            print(f\"Результат: {owner}\")\n",
    "\n",
    "        elif command == \"s\":\n",
    "            doc_number = input(\"Введите номер документа: \")\n",
    "            shelf = get_shelf()\n",
    "            print(f\"Результат: {shelf}\")\n",
    "\n",
    "        elif command == \"l\":\n",
    "            print(\"Результат:\")\n",
    "            list_all_documents()\n",
    "\n",
    "        elif command == \"ads\":\n",
    "            shelf_number = input(\"Введите номер полки: \")\n",
    "            print(f\"Результат: {add_new_shelf(shelf_number)}\")\n",
    "\n",
    "        elif command == \"ds\":\n",
    "            shelf_number = input(\"Введите номер полки: \")\n",
    "            print(f\"Результат: {delete_shelf(shelf_number)}\")\n",
    "\n",
    "        elif command == \"ad\":\n",
    "            doc_number = input(\"Введите номер документа: \")\n",
    "            doc_type = input(\"Введите тип документа: \")\n",
    "            doc_owner = input(\"Введите владельца документа: \")\n",
    "            shelf_number = input(\"Введите полку для хранения: \")\n",
    "            result = add_document(doc_number, doc_type, doc_owner, shelf_number)\n",
    "            print(f\"Результат: {result}\")\n",
    "\n",
    "        elif command == \"d\":\n",
    "            doc_number = input(\"Введите номер документа: \")\n",
    "            result = delete_document(doc_number)\n",
    "            print(f\"Результат: {result}\")\n",
    "\n",
    "        elif command == \"m\":\n",
    "            doc_number = input(\"Введите номер документа: \")\n",
    "            target_shelf = input(\"Введите номер полки: \")\n",
    "            result = move_document(doc_number, target_shelf)\n",
    "            print(f\"Результат: {result}\")\n",
    "\n",
    "        elif command == \"q\":\n",
    "            break\n",
    "\n",
    "        else:\n",
    "            print(\"Команда не распознана. Попробуйте снова.\")\n",
    "            \n",
    "if __name__ == \"__main__\":\n",
    "    main()"
   ]
  },
  {
   "cell_type": "code",
   "execution_count": null,
   "id": "250068db-cd3f-49fe-b0b7-1e119a9111b5",
   "metadata": {},
   "outputs": [],
   "source": []
  }
 ],
 "metadata": {
  "kernelspec": {
   "display_name": "Python 3 (ipykernel)",
   "language": "python",
   "name": "python3"
  },
  "language_info": {
   "codemirror_mode": {
    "name": "ipython",
    "version": 3
   },
   "file_extension": ".py",
   "mimetype": "text/x-python",
   "name": "python",
   "nbconvert_exporter": "python",
   "pygments_lexer": "ipython3",
   "version": "3.9.19"
  }
 },
 "nbformat": 4,
 "nbformat_minor": 5
}
