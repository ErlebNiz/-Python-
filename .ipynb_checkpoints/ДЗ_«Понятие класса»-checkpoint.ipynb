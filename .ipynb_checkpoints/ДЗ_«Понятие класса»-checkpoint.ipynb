{
 "cells": [
  {
   "cell_type": "markdown",
   "id": "06bb796d-7024-4803-8993-440c24257075",
   "metadata": {},
   "source": [
    "#### Задание 1"
   ]
  },
  {
   "cell_type": "code",
   "execution_count": 6,
   "id": "d3545232-32d9-4ea7-937f-e325f38dc998",
   "metadata": {},
   "outputs": [],
   "source": [
    "import requests"
   ]
  },
  {
   "cell_type": "code",
   "execution_count": 12,
   "id": "5a599fce-aed0-4890-98f6-dee9ae258c6f",
   "metadata": {},
   "outputs": [],
   "source": [
    "class Rate:\n",
    "    def __init__(self, format_='value'):\n",
    "        self.format = format_\n",
    "    \n",
    "    def exchange_rates(self):\n",
    "        \"\"\"\n",
    "        Возвращает ответ сервиса с информацией о валютах в виде:\n",
    "        \n",
    "        {\n",
    "            'AMD': {\n",
    "                'CharCode': 'AMD',\n",
    "                'ID': 'R01060',\n",
    "                'Name': 'Армянских драмов',\n",
    "                'Nominal': 100,\n",
    "                'NumCode': '051',\n",
    "                'Previous': 14.103,\n",
    "                'Value': 14.0879\n",
    "                },\n",
    "            ...\n",
    "        }\n",
    "        \"\"\"\n",
    "        self.r = requests.get('https://www.cbr-xml-daily.ru/daily_json.js')\n",
    "        return self.r.json()['Valute']\n",
    "    \n",
    "    def make_format(self, currency):\n",
    "        \"\"\"\n",
    "        Возвращает информацию о валюте currency в двух вариантах:\n",
    "        - полная информация о валюте при self.format = 'full':\n",
    "        Rate('full').make_format('EUR')\n",
    "        {\n",
    "            'CharCode': 'EUR',\n",
    "            'ID': 'R01239',\n",
    "            'Name': 'Евро',\n",
    "            'Nominal': 1,\n",
    "            'NumCode': '978',\n",
    "            'Previous': 79.6765,\n",
    "            'Value': 79.4966\n",
    "        }\n",
    "        \n",
    "        Rate('value').make_format('EUR')\n",
    "        79.4966\n",
    "        \"\"\"\n",
    "        response = self.exchange_rates()\n",
    "        \n",
    "        if currency in response:\n",
    "            if self.format == 'full':\n",
    "                return response[currency]\n",
    "            \n",
    "            if self.format == 'value':\n",
    "                return response[currency]['Value']\n",
    "        \n",
    "        return 'Error'\n",
    "    \n",
    "    def eur(self):\n",
    "        \"\"\"Возвращает курс евро на сегодня в формате self.format\"\"\"\n",
    "        return self.make_format('EUR')\n",
    "    \n",
    "    def usd(self):\n",
    "        \"\"\"Возвращает курс доллара на сегодня в формате self.format\"\"\"\n",
    "        return self.make_format('USD')\n",
    "    \n",
    "    def brl(self):\n",
    "        \"\"\"Возвращает курс бразильского реала на сегодня в формате self.format\"\"\"\n",
    "        return self.make_format('BRL')\n",
    "    \n",
    "    def max_valute_result(self):\n",
    "        url = 'https://www.cbr-xml-daily.ru/daily_json.js'\n",
    "        resp = requests.get(url)  \n",
    "        result = resp.json()['Valute']\n",
    "        \n",
    "        max_valute = max(result.values(), key=lambda x: x['Value'] / x['Nominal'])\n",
    "        return max_valute\n",
    "        \n",
    "        \n",
    "        "
   ]
  },
  {
   "cell_type": "code",
   "execution_count": 13,
   "id": "524f2578-a193-45b6-9235-ed3265d9fc9c",
   "metadata": {},
   "outputs": [
    {
     "name": "stdout",
     "output_type": "stream",
     "text": [
      "СДР (специальные права заимствования)\n"
     ]
    }
   ],
   "source": [
    "rate = Rate()\n",
    "\n",
    "max_currency = rate.max_valute_result()['Name']\n",
    "print(max_currency)"
   ]
  },
  {
   "cell_type": "markdown",
   "id": "6ed69e97-3cd0-4c7c-9946-cebab326a1c0",
   "metadata": {},
   "source": [
    "#### Задание 2"
   ]
  },
  {
   "cell_type": "code",
   "execution_count": 30,
   "id": "2d6ca2cc-7d19-480d-80c3-ed255b88cccc",
   "metadata": {},
   "outputs": [],
   "source": [
    "class Rate:\n",
    "    def __init__(self, format_='value', diff=True):\n",
    "        self.format = format_\n",
    "        self.diff = diff\n",
    "    \n",
    "    def exchange_rates(self):\n",
    "        \"\"\"\n",
    "        Возвращает ответ сервиса с информацией о валютах в виде:\n",
    "        \n",
    "        {\n",
    "            'AMD': {\n",
    "                'CharCode': 'AMD',\n",
    "                'ID': 'R01060',\n",
    "                'Name': 'Армянских драмов',\n",
    "                'Nominal': 100,\n",
    "                'NumCode': '051',\n",
    "                'Previous': 14.103,\n",
    "                'Value': 14.0879\n",
    "                },\n",
    "            ...\n",
    "        }\n",
    "        \"\"\"\n",
    "        self.r = requests.get('https://www.cbr-xml-daily.ru/daily_json.js')\n",
    "        return self.r.json()['Valute']\n",
    "    \n",
    "        \n",
    "    def make_format(self, currency):\n",
    "        \"\"\"\n",
    "        Возвращает информацию о валюте currency в двух вариантах:\n",
    "        - полная информация о валюте при self.format = 'full':\n",
    "        Rate('full').make_format('EUR')\n",
    "        {\n",
    "            'CharCode': 'EUR',\n",
    "            'ID': 'R01239',\n",
    "            'Name': 'Евро',\n",
    "            'Nominal': 1,\n",
    "            'NumCode': '978',\n",
    "            'Previous': 79.6765,\n",
    "            'Value': 79.4966\n",
    "        }\n",
    "        \n",
    "        Rate('value').make_format('EUR')\n",
    "        79.4966\n",
    "        \"\"\"\n",
    "        response = self.exchange_rates()\n",
    "        \n",
    "        if currency in response:\n",
    "            if self.format == 'full':\n",
    "                return response[currency]\n",
    "            \n",
    "            if self.format == 'value':\n",
    "                result = response[currency]['Value']\n",
    "                if self.diff:\n",
    "                    result -= response[currency]['Previous']\n",
    "                    return result \n",
    "        \n",
    "        return 'Error'\n",
    "    \n",
    "    def eur(self):\n",
    "        \"\"\"Возвращает курс евро на сегодня в формате self.format\"\"\"\n",
    "        return self.make_format('EUR')\n",
    "    \n",
    "    def usd(self):\n",
    "        \"\"\"Возвращает курс доллара на сегодня в формате self.format\"\"\"\n",
    "        return self.make_format('USD')\n",
    "    \n",
    "    def brl(self):\n",
    "        \"\"\"Возвращает курс бразильского реала на сегодня в формате self.format\"\"\"\n",
    "        return self.make_format('BRL')\n",
    "    \n",
    "    def max_valute_result(self):\n",
    "        url = 'https://www.cbr-xml-daily.ru/daily_json.js'\n",
    "        resp = requests.get(url)  \n",
    "        result = resp.json()['Valute']\n",
    "        \n",
    "        max_valute = max(result.values(), key=lambda x: x['Value'] / x['Nominal'])\n",
    "        return max_valute\n",
    "        \n",
    "    "
   ]
  },
  {
   "cell_type": "code",
   "execution_count": 37,
   "id": "adead85a-5d02-4647-bacf-a8f8fa87fe09",
   "metadata": {},
   "outputs": [
    {
     "name": "stdout",
     "output_type": "stream",
     "text": [
      "0.17329999999999757\n"
     ]
    }
   ],
   "source": [
    "rate_diff = Rate('value', diff=True)\n",
    "print(rate_diff.make_format('USD'))"
   ]
  },
  {
   "cell_type": "markdown",
   "id": "7dee18d3-1552-4e3c-b535-e2b39e356028",
   "metadata": {},
   "source": [
    "#### Задача 3"
   ]
  },
  {
   "cell_type": "code",
   "execution_count": 1,
   "id": "a1ecde20-2c02-4a8d-a0b6-6031eaa3e220",
   "metadata": {},
   "outputs": [],
   "source": [
    "class Employee:\n",
    "    def __init__(self, name, seniority):\n",
    "        self.name = name\n",
    "        self.seniority = seniority\n",
    "        self.grade = 1\n",
    "    \n",
    "    def grade_up(self):\n",
    "        \"\"\"Повышает уровень сотрудника\"\"\"\n",
    "        self.grade += 1\n",
    "    \n",
    "    def publish_grade(self):\n",
    "        \"\"\"Публикация результатов аккредитации сотрудников\"\"\"\n",
    "        print(self.name, self.grade)\n",
    "    \n",
    "    def check_if_it_is_time_for_upgrade(self):\n",
    "        pass\n",
    "\n",
    "\n"
   ]
  },
  {
   "cell_type": "code",
   "execution_count": 2,
   "id": "ec7dc0f2-8b14-467b-bc4c-24c22983e482",
   "metadata": {},
   "outputs": [],
   "source": [
    "class Developer(Employee):\n",
    "    def __init__(self, name, seniority):\n",
    "        super().__init__(name, seniority)\n",
    "    \n",
    "    def check_if_it_is_time_for_upgrade(self):\n",
    "        # для каждой аккредитации увеличиваем счетчик на 1\n",
    "        # пока считаем, что все разработчики проходят аккредитацию\n",
    "        self.seniority += 1\n",
    "        \n",
    "        # условие повышения сотрудника из презентации\n",
    "        if self.seniority % 5 == 0:\n",
    "            self.grade_up()\n",
    "        \n",
    "        # публикация результатов\n",
    "        return self.publish_grade()"
   ]
  },
  {
   "cell_type": "code",
   "execution_count": 6,
   "id": "87415052-d8a9-4ab4-b126-9d7747bdcc26",
   "metadata": {},
   "outputs": [],
   "source": [
    "class Designer(Employee):\n",
    "   \n",
    "    def __init__(self, name, seniority):\n",
    "        super().__init__(name, seniority)\n",
    "        self.awards = 2  # начальное количество международных премий\n",
    "    \n",
    "    def check_if_it_is_time_for_upgrade(self):\n",
    "        # для каждой аккредитации увеличивем счетчик на 1\n",
    "        # Все разработчики проходят аккредитацию\n",
    "        self.seniority += 1 \n",
    "        \n",
    "        # Условие повышения сотрудника за каждые 7 баллов\n",
    "        if self.seniority % 7 == 0:\n",
    "            # Определяем количество грейдов для повышения\n",
    "            self.grade_up()\n",
    "            \n",
    "    \n",
    "        return self.publish_grade()"
   ]
  },
  {
   "cell_type": "code",
   "execution_count": 10,
   "id": "9500062c-5d18-4cb3-8e78-27361e5a908a",
   "metadata": {},
   "outputs": [
    {
     "name": "stdout",
     "output_type": "stream",
     "text": [
      "Алена 1\n",
      "Алена 1\n",
      "Алена 2\n",
      "Алена 2\n",
      "Алена 2\n",
      "Алена 2\n",
      "Алена 2\n",
      "Алена 2\n",
      "Алена 2\n",
      "Алена 3\n"
     ]
    }
   ],
   "source": [
    "designer = Designer(\"Алена\", 4)\n",
    "designer.check_if_it_is_time_for_upgrade()\n",
    "designer.check_if_it_is_time_for_upgrade() \n",
    "designer.check_if_it_is_time_for_upgrade()\n",
    "designer.check_if_it_is_time_for_upgrade()\n",
    "designer.check_if_it_is_time_for_upgrade()\n",
    "designer.check_if_it_is_time_for_upgrade() \n",
    "designer.check_if_it_is_time_for_upgrade()\n",
    "designer.check_if_it_is_time_for_upgrade()\n",
    "designer.check_if_it_is_time_for_upgrade()\n",
    "designer.check_if_it_is_time_for_upgrade() "
   ]
  },
  {
   "cell_type": "code",
   "execution_count": null,
   "id": "d2b563a1-6d68-4152-8c1c-a5f5b6bda9f2",
   "metadata": {},
   "outputs": [],
   "source": []
  }
 ],
 "metadata": {
  "kernelspec": {
   "display_name": "Python 3 (ipykernel)",
   "language": "python",
   "name": "python3"
  },
  "language_info": {
   "codemirror_mode": {
    "name": "ipython",
    "version": 3
   },
   "file_extension": ".py",
   "mimetype": "text/x-python",
   "name": "python",
   "nbconvert_exporter": "python",
   "pygments_lexer": "ipython3",
   "version": "3.9.19"
  }
 },
 "nbformat": 4,
 "nbformat_minor": 5
}
