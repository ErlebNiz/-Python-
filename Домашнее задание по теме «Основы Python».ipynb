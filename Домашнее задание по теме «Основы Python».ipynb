{
 "cells": [
  {
   "cell_type": "markdown",
   "id": "c74f19b9",
   "metadata": {},
   "source": [
    "### Задание 1\n"
   ]
  },
  {
   "cell_type": "code",
   "execution_count": 2,
   "id": "8f623ea1",
   "metadata": {},
   "outputs": [
    {
     "name": "stdout",
     "output_type": "stream",
     "text": [
      "Фраза 1 длиннее фразы 2\n"
     ]
    }
   ],
   "source": [
    "phrase_1 = 'Насколько проще было бы писать программы, если бы не заказчики'\n",
    "phrase_2 = '640Кб должно хватить для любых задач. Билл Гейтс (по легенде)'\n",
    "\n",
    "if len(phrase_1) > len(phrase_2):\n",
    "    print('Фраза 1 длиннее фразы 2')\n",
    "elif len(phrase_2) > len(phrase_2):\n",
    "    print('Фраза 2 длиннее фразы 1')\n",
    "else:\n",
    "    print('Фразы равной длины')\n",
    "    "
   ]
  },
  {
   "cell_type": "markdown",
   "id": "04a896f0",
   "metadata": {},
   "source": [
    "### Задание 2"
   ]
  },
  {
   "cell_type": "code",
   "execution_count": 5,
   "id": "da005f2b",
   "metadata": {},
   "outputs": [
    {
     "name": "stdout",
     "output_type": "stream",
     "text": [
      "Високосный год\n"
     ]
    }
   ],
   "source": [
    "year = 2020\n",
    "if (year % 4 == 0 and year % 100 != 0) or (year % 400 == 0):\n",
    "    print('Високосный год')\n",
    "else:\n",
    "    print('Обычный год')\n"
   ]
  },
  {
   "cell_type": "code",
   "execution_count": 6,
   "id": "c68dace5",
   "metadata": {
    "jupyter": {
     "source_hidden": true
    }
   },
   "outputs": [
    {
     "name": "stdout",
     "output_type": "stream",
     "text": [
      "Обычный год\n"
     ]
    }
   ],
   "source": [
    "year = 2019\n",
    "if (year % 4 == 0 and year % 100 != 0) or (year % 400 == 0):\n",
    "    print('Високосный год')\n",
    "else:\n",
    "    print('Обычный год')\n"
   ]
  },
  {
   "cell_type": "markdown",
   "id": "e38b43bc",
   "metadata": {},
   "source": [
    "### Задание 3"
   ]
  },
  {
   "cell_type": "code",
   "execution_count": 8,
   "id": "a5e7377b",
   "metadata": {},
   "outputs": [
    {
     "name": "stdout",
     "output_type": "stream",
     "text": [
      "Введите день: 30\n",
      "Введите месяц: Октябрь\n",
      "Ваш знак зодиака: Скорпион\n"
     ]
    }
   ],
   "source": [
    "def get_zodiac_sign(day, month):\n",
    "    month = month.lower()\n",
    "    if (month == \"март\" and day >= 21) or (month == \"апрель\" and day <= 19):\n",
    "        return \"Овен\"\n",
    "    elif (month == \"апрель\" and day >= 20) or (month == \"май\" and day <= 20):\n",
    "        return \"Телец\"\n",
    "    elif (month == \"май\" and day >= 21) or (month == \"июнь\" and day <= 20):\n",
    "        return \"Близнецы\"\n",
    "    elif (month == \"июнь\" and day >= 21) or (month == \"июль\" and day <= 22):\n",
    "        return \"Рак\"\n",
    "    elif (month == \"июль\" and day >= 23) or (month == \"август\" and day <= 22):\n",
    "        return \"Лев\"\n",
    "    elif (month == \"август\" and day >= 23) or (month == \"сентябрь\" and day <= 22):\n",
    "        return \"Дева\"\n",
    "    elif (month == \"сентябрь\" and day >= 23) or (month == \"октябрь\" and day <= 22):\n",
    "        return \"Весы\"\n",
    "    elif (month == \"октябрь\" and day >= 23) or (month == \"ноябрь\" and day <= 21):\n",
    "        return \"Скорпион\"\n",
    "    elif (month == \"ноябрь\" and day >= 22) or (month == \"декабрь\" and day <= 21):\n",
    "        return \"Стрелец\"\n",
    "    elif (month == \"декабрь\" and day >= 22) or (month == \"январь\" and day <= 19):\n",
    "        return \"Козерог\"\n",
    "    elif (month == \"январь\" and day >= 20) or (month == \"февраль\" and day <= 18):\n",
    "        return \"Водолей\"\n",
    "    elif (month == \"февраль\" and day >= 19) or (month == \"март\" and day <= 20):\n",
    "        return \"Рыбы\"\n",
    "    else:\n",
    "        return \"Введите  дата\"\n",
    "\n",
    "day = int(input(\"Введите день: \"))\n",
    "month = input(\"Введите месяц: \")\n",
    "\n",
    "zodiac_sign = get_zodiac_sign(day, month)\n",
    "print(f\"Ваш знак зодиака: {zodiac_sign}\")"
   ]
  },
  {
   "cell_type": "markdown",
   "id": "436572f2",
   "metadata": {},
   "source": [
    "### Задание 4"
   ]
  },
  {
   "cell_type": "code",
   "execution_count": 9,
   "id": "8218dd17",
   "metadata": {},
   "outputs": [
    {
     "name": "stdout",
     "output_type": "stream",
     "text": [
      "Введите ширину (в сантиметрах): 45\n",
      "Введите длину (в сантиметрах): 205\n",
      "Введите высоту (в сантиметрах): 45\n",
      "Упаковка для лыж\n"
     ]
    }
   ],
   "source": [
    "width = int(input(\"Введите ширину (в сантиметрах): \"))\n",
    "length = int(input(\"Введите длину (в сантиметрах): \"))\n",
    "height = int(input(\"Введите высоту (в сантиметрах): \"))\n",
    "\n",
    "if width <= 15 and length <= 15 and height <= 15:\n",
    "    print(\"Коробка №1\")\n",
    "elif width > 200 or length > 200 or height > 200:\n",
    "    print(\"Упаковка для лыж\")\n",
    "elif (width > 15 or length > 15 or height > 15) and (width < 50 and length < 50 and height < 50):\n",
    "    print(\"Коробка №2\")\n",
    "else:\n",
    "    print(\"Коробка №3\")"
   ]
  },
  {
   "cell_type": "markdown",
   "id": "749cdc46",
   "metadata": {},
   "source": [
    "### Задание 5"
   ]
  },
  {
   "cell_type": "code",
   "execution_count": 11,
   "id": "b9437be5",
   "metadata": {},
   "outputs": [
    {
     "name": "stdout",
     "output_type": "stream",
     "text": [
      "Введите шестизначный номер билета: 123321\n",
      "Билет счастливый\n"
     ]
    }
   ],
   "source": [
    "number = int(input(\"Введите шестизначный номер билета: \"))\n",
    "\n",
    "if 100000 <= number <= 999999:\n",
    "    first_half = number // 1000\n",
    "    second_half = number % 1000\n",
    "    \n",
    "    sum_first_half = (first_half // 100) + ((first_half // 10) % 10) + (first_half % 10)\n",
    "    sum_second_half = (second_half // 100) + ((second_half // 10) % 10) + (second_half % 10)\n",
    "    \n",
    "    if sum_first_half == sum_second_half:\n",
    "        print(\"Билет счастливый\")\n",
    "    else:\n",
    "        print(\"Билет не счастливый\")\n",
    "else:\n",
    "    print(\"Номер билета должен быть шестизначным\")"
   ]
  },
  {
   "cell_type": "markdown",
   "id": "5cabf485",
   "metadata": {},
   "source": [
    "### Задание 6"
   ]
  },
  {
   "cell_type": "code",
   "execution_count": 12,
   "id": "4bea501d",
   "metadata": {},
   "outputs": [
    {
     "name": "stdout",
     "output_type": "stream",
     "text": [
      "Введите тип фигуры (Круг, Треугольник, Прямоугольник): Круг\n",
      "Введите радиус круга: 10\n",
      "Площадь круга: 314.16\n"
     ]
    }
   ],
   "source": [
    "import math\n",
    "\n",
    "# Функция для расчета площади круга\n",
    "def calculate_circle_area(radius):\n",
    "    return math.pi * radius ** 2\n",
    "\n",
    "# Функция для расчета площади треугольника по трем сторонам (по формуле Герона)\n",
    "def calculate_triangle_area(a, b, c):\n",
    "    # Полупериметр\n",
    "    s = (a + b + c) / 2\n",
    "    # Площадь по формуле Герона\n",
    "    return math.sqrt(s * (s - a) * (s - b) * (s - c))\n",
    "\n",
    "# Функция для расчета площади прямоугольника\n",
    "def calculate_rectangle_area(width, height):\n",
    "    return width * height\n",
    "\n",
    "# Запрос типа фигуры\n",
    "shape = input(\"Введите тип фигуры (Круг, Треугольник, Прямоугольник): \").lower()\n",
    "\n",
    "if shape == \"круг\":\n",
    "    radius = float(input(\"Введите радиус круга: \"))\n",
    "    area = calculate_circle_area(radius)\n",
    "    print(f\"Площадь круга: {area:.2f}\")\n",
    "\n",
    "elif shape == \"треугольник\":\n",
    "    a = float(input(\"Введите длину первой стороны треугольника: \"))\n",
    "    b = float(input(\"Введите длину второй стороны треугольника: \"))\n",
    "    c = float(input(\"Введите длину третьей стороны треугольника: \"))\n",
    "    \n",
    "    # Проверка на возможность существования треугольника\n",
    "    if a + b > c and a + c > b and b + c > a:\n",
    "        area = calculate_triangle_area(a, b, c)\n",
    "        print(f\"Площадь треугольника: {area:.2f}\")\n",
    "    else:\n",
    "        print(\"Такой треугольник не существует\")\n",
    "\n",
    "elif shape == \"прямоугольник\":\n",
    "    width = float(input(\"Введите длину прямоугольника: \"))\n",
    "    height = float(input(\"Введите ширину прямоугольника: \"))\n",
    "    area = calculate_rectangle_area(width, height)\n",
    "    print(f\"Площадь прямоугольника: {area:.2f}\")\n",
    "\n",
    "else:\n",
    "    print(\"Неизвестный тип фигуры\")"
   ]
  },
  {
   "cell_type": "code",
   "execution_count": null,
   "id": "fb1a6c16",
   "metadata": {},
   "outputs": [],
   "source": []
  }
 ],
 "metadata": {
  "kernelspec": {
   "display_name": "Python 3 (ipykernel)",
   "language": "python",
   "name": "python3"
  },
  "language_info": {
   "codemirror_mode": {
    "name": "ipython",
    "version": 3
   },
   "file_extension": ".py",
   "mimetype": "text/x-python",
   "name": "python",
   "nbconvert_exporter": "python",
   "pygments_lexer": "ipython3",
   "version": "3.9.19"
  }
 },
 "nbformat": 4,
 "nbformat_minor": 5
}
