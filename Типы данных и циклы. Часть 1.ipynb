{
 "cells": [
  {
   "cell_type": "markdown",
   "id": "8a4d1e98-0513-4653-81b4-b5bf2444b38f",
   "metadata": {
    "tags": []
   },
   "source": [
    "### Задание 1"
   ]
  },
  {
   "cell_type": "code",
   "execution_count": 6,
   "id": "48056d6a-09c1-4087-a968-21c8cc1bbf6d",
   "metadata": {},
   "outputs": [
    {
     "name": "stdin",
     "output_type": "stream",
     "text": [
      "Введите любое слово из латинских букв:  Programma\n"
     ]
    },
    {
     "name": "stdout",
     "output_type": "stream",
     "text": [
      "r\n"
     ]
    }
   ],
   "source": [
    "word = input('Введите любое слово из латинских букв: ')\n",
    "num = len(word)\n",
    "\n",
    "if num % 2 == 0:\n",
    "    let1 = num // 2 - 1\n",
    "    let2 = num // 2\n",
    "    print(word[let1] + word[let2])\n",
    "else:\n",
    "    let3 = num // 2\n",
    "    print(word[let3])\n",
    "    \n",
    "        \n",
    "        \n",
    "    "
   ]
  },
  {
   "cell_type": "markdown",
   "id": "11c5f902-3378-437e-b5fb-b557c59df841",
   "metadata": {},
   "source": [
    "### Задание 2"
   ]
  },
  {
   "cell_type": "code",
   "execution_count": 2,
   "id": "b9878a45-97fa-4782-871b-f4a77b3627ec",
   "metadata": {},
   "outputs": [],
   "source": [
    "def get_sum_input():\n",
    "    num_sum = 0\n",
    "    \n",
    "    while True:\n",
    "        num = int(input('Введите любое число: '))\n",
    "        if num == 0:\n",
    "            break\n",
    "        else:\n",
    "            num_sum += num\n",
    "            \n",
    "    print(\"Сумма всех всех введенных чисел:\", num_sum)\n",
    "    "
   ]
  },
  {
   "cell_type": "code",
   "execution_count": 3,
   "id": "ce53192c-290a-4b8c-9082-c6449d11d47a",
   "metadata": {},
   "outputs": [
    {
     "name": "stdin",
     "output_type": "stream",
     "text": [
      "Введите любое число:  3\n",
      "Введите любое число:  5\n",
      "Введите любое число:  86\n",
      "Введите любое число:  0\n"
     ]
    },
    {
     "name": "stdout",
     "output_type": "stream",
     "text": [
      "Сумма всех всех введенных чисел: 94\n"
     ]
    }
   ],
   "source": [
    "get_sum_input()"
   ]
  },
  {
   "cell_type": "markdown",
   "id": "352de20a-5f70-4d6d-a780-9e6102263c77",
   "metadata": {},
   "source": [
    "### Задание 3"
   ]
  },
  {
   "cell_type": "code",
   "execution_count": 11,
   "id": "31097d30-f52a-4f01-a377-1a2ff96f708b",
   "metadata": {},
   "outputs": [],
   "source": [
    "def make_pairs(boys, girls):\n",
    "    if len(boys) != len(girls):\n",
    "        print(\"Внимание, кто-то может остаться без пары!\")  \n",
    "        return\n",
    "\n",
    "    print(\"Идеальные пары:\")\n",
    "    for boy, girl in zip(sorted(boys), sorted(girls)):\n",
    "        print(f\"{boy} и {girl}\")"
   ]
  },
  {
   "cell_type": "code",
   "execution_count": 12,
   "id": "38592db4-5622-46fe-a4b7-fc0c6b004f59",
   "metadata": {},
   "outputs": [
    {
     "name": "stdout",
     "output_type": "stream",
     "text": [
      "Идеальные пары:\n",
      "Alex и Emma\n",
      "Arthur и Kate\n",
      "John и Kira\n",
      "Peter и Liza\n",
      "Richard и Trisha\n"
     ]
    }
   ],
   "source": [
    "boys = ['Peter', 'Alex', 'John', 'Arthur', 'Richard']\n",
    "girls = ['Kate', 'Liza', 'Kira', 'Emma', 'Trisha']\n",
    "\n",
    "make_pairs(boys, girls)\n"
   ]
  },
  {
   "cell_type": "code",
   "execution_count": 13,
   "id": "d8a41ca3-e2f7-4742-863e-860d31d089df",
   "metadata": {},
   "outputs": [
    {
     "name": "stdout",
     "output_type": "stream",
     "text": [
      "Внимание, кто-то может остаться без пары!\n"
     ]
    }
   ],
   "source": [
    "boys = ['Peter', 'Alex', 'John', 'Arthur', 'Richard', 'Michael']\n",
    "girls = ['Kate', 'Liza', 'Kira', 'Emma', 'Trisha']\n",
    "\n",
    "make_pairs(boys, girls)"
   ]
  },
  {
   "cell_type": "markdown",
   "id": "0a31db9c-ed2b-4503-8fd4-d0db5baa83b3",
   "metadata": {},
   "source": [
    "### Задание 4"
   ]
  },
  {
   "cell_type": "code",
   "execution_count": 19,
   "id": "d046bfe5-2739-4ddf-bd98-290da18ad8c7",
   "metadata": {},
   "outputs": [],
   "source": [
    "def get_avg_temp(countries_temperature):\n",
    "    for country, temp in countries_temperature:\n",
    "        avg_fahrenheit = sum(temp) / len(temp)\n",
    "        avg_celsius = (avg_fahrenheit - 32) * 5.0 / 9.0\n",
    "        print(f\"{country} - {avg_celsius:.1f}°C\")"
   ]
  },
  {
   "cell_type": "code",
   "execution_count": 20,
   "id": "1d26d91b-635f-43e7-a4c4-144e14c9d5ff",
   "metadata": {},
   "outputs": [
    {
     "name": "stdout",
     "output_type": "stream",
     "text": [
      "Таиланд - 23.9°C\n",
      "Германия - 13.8°C\n",
      "Россия - 3.7°C\n",
      "Польша - 12.0°C\n"
     ]
    }
   ],
   "source": [
    "countries_temperature = [\n",
    "    ['Таиланд', [75.2, 77, 78.8, 73.4, 68, 75.2, 77]],\n",
    "    ['Германия', [57.2, 55.4, 59, 59, 53.6]],\n",
    "    ['Россия', [35.6, 37.4, 39.2, 41, 42.8, 39.2, 35.6]],\n",
    "    ['Польша', [50, 50, 53.6, 57.2, 55.4, 55.4]]\n",
    "]\n",
    "\n",
    "get_avg_temp(countries_temperature)"
   ]
  },
  {
   "cell_type": "markdown",
   "id": "6171f471-151d-46b8-a59e-22c9172621c2",
   "metadata": {},
   "source": [
    "### Задание 5"
   ]
  },
  {
   "cell_type": "code",
   "execution_count": 23,
   "id": "73f8a4c4-5ef3-4d5e-8011-635e88f18db9",
   "metadata": {},
   "outputs": [],
   "source": [
    "import re\n",
    "\n",
    "def check_valid_car_id(car_ids):\n",
    "    valid_letters = 'АВЕКМНОРСТУХ'\n",
    "    pattern = re.compile(f'^([{valid_letters}]\\d{{3}}[{valid_letters}]{{2}})(\\d{{2,3}})$')\n",
    "                         \n",
    "    for car_id in car_ids:\n",
    "        if (match_group := pattern.match(car_id)):\n",
    "            number = match_group.group(1) \n",
    "            region = match_group.group(2)\n",
    "            print(f\"Номер {number} валиден. Регион: {region}\")\n",
    "        else:\n",
    "            print(f\"Номер {car_id} не валиден\")\n",
    "                \n",
    "   \n"
   ]
  },
  {
   "cell_type": "code",
   "execution_count": 28,
   "id": "86f08d9a-48df-41a0-813d-dc4a1262a73e",
   "metadata": {},
   "outputs": [
    {
     "name": "stdout",
     "output_type": "stream",
     "text": [
      "Номер А222ВС валиден. Регион: 96\n",
      "Номер АБ22ВВ193 не валиден\n",
      "Номер В404УС валиден. Регион: 82\n"
     ]
    }
   ],
   "source": [
    "car_ids = ['А222ВС96', 'АБ22ВВ193', 'В404УС82']\n",
    "check_valid_car_id(car_ids)"
   ]
  },
  {
   "cell_type": "markdown",
   "id": "32eca144-d36f-4b3b-9b72-1a558a7069cd",
   "metadata": {},
   "source": [
    "### Задание 6"
   ]
  },
  {
   "cell_type": "code",
   "execution_count": 51,
   "id": "3e49881d-52c0-4b56-b3bf-9051928f0578",
   "metadata": {},
   "outputs": [],
   "source": [
    " def get_avg_views_per_user_id(stream):\n",
    "    total_views = 0\n",
    "    count = 0\n",
    "\n",
    "    for row in stream:\n",
    "        parts = row.split(';')\n",
    "        \n",
    "        # Проверка на наличие данных\n",
    "        if len(parts) < 2:\n",
    "            print('Данные не валидны')\n",
    "            return None\n",
    "        \n",
    "        try:\n",
    "            views = int(parts[1])\n",
    "        except ValueError:\n",
    "            print('Данные не валидны')\n",
    "            return None\n",
    "        \n",
    "        if views >= 0:\n",
    "            total_views += views\n",
    "            count += 1\n",
    "    \n",
    "    \n",
    "    if count > 0:\n",
    "        avg_views = total_views / count\n",
    "        print(f\"Среднее количество просмотров: {avg_views:.2f}\")\n",
    "    else:\n",
    "        print('Нет данных')"
   ]
  },
  {
   "cell_type": "code",
   "execution_count": 48,
   "id": "c289a007-7d8b-408f-90a6-865a2ac45236",
   "metadata": {},
   "outputs": [
    {
     "name": "stdout",
     "output_type": "stream",
     "text": [
      "Среднее количество просмотров: 7.75\n"
     ]
    }
   ],
   "source": [
    "stream = [\n",
    "    'user4,2021-01-01;3',\n",
    "    'user3,2022-01-07;4',\n",
    "    'user2,2022-03-29;1',\n",
    "    'user1,2020-04-04;13',\n",
    "    'user2,2022-01-05;7',\n",
    "    'user1,2021-06-14;4',\n",
    "    'user3,2022-07-02;10',\n",
    "    'user4,2021-03-21;19',\n",
    "    'user4,2022-03-22;4',\n",
    "    'user4,2022-04-22;8',\n",
    "    'user4,2021-05-03;9',\n",
    "    'user4,2022-05-11;11'\n",
    "]\n",
    "get_avg_views_per_user_id(stream)"
   ]
  },
  {
   "cell_type": "code",
   "execution_count": 55,
   "id": "980f9418-e91f-4747-96c8-975df7b9a8fc",
   "metadata": {},
   "outputs": [
    {
     "name": "stdout",
     "output_type": "stream",
     "text": [
      "Данные не валидны\n"
     ]
    }
   ],
   "source": [
    "stream = [\n",
    "    'user100,2022-01-01;-asdas150',\n",
    "    'user99,2022-01-07;',\n",
    "    'user1001,2022-03-29;'\n",
    "]\n",
    "get_avg_views_per_user_id(stream)"
   ]
  },
  {
   "cell_type": "code",
   "execution_count": 52,
   "id": "61b3f36d-fd76-4733-89ea-f8abed4c1574",
   "metadata": {},
   "outputs": [
    {
     "name": "stdout",
     "output_type": "stream",
     "text": [
      "Нет данных\n"
     ]
    }
   ],
   "source": [
    "stream = []\n",
    "    \n",
    "get_avg_views_per_user_id(stream)"
   ]
  }
 ],
 "metadata": {
  "kernelspec": {
   "display_name": "Python 3 (ipykernel)",
   "language": "python",
   "name": "python3"
  },
  "language_info": {
   "codemirror_mode": {
    "name": "ipython",
    "version": 3
   },
   "file_extension": ".py",
   "mimetype": "text/x-python",
   "name": "python",
   "nbconvert_exporter": "python",
   "pygments_lexer": "ipython3",
   "version": "3.9.19"
  }
 },
 "nbformat": 4,
 "nbformat_minor": 5
}
