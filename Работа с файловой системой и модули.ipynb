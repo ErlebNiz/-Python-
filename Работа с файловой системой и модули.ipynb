{
 "cells": [
  {
   "cell_type": "code",
   "execution_count": 34,
   "id": "c42be29d-d4b9-4df2-af16-279bb90230ff",
   "metadata": {},
   "outputs": [],
   "source": [
    "import json\n"
   ]
  },
  {
   "cell_type": "code",
   "execution_count": 35,
   "id": "3d902d88-df70-4bd0-81d3-a6a68332fd21",
   "metadata": {},
   "outputs": [
    {
     "name": "stdout",
     "output_type": "stream",
     "text": [
      "user_id: category\n",
      "1840e0b9d4: Продукты\n",
      "4e4f90fcfb: Электроника\n"
     ]
    }
   ],
   "source": [
    "with open('C:/Users/XE/Downloads/purchase_log.txt', 'r', encoding='utf-8') as f:\n",
    "    purchases = {\n",
    "        json.loads(line)['user_id']: json.loads(line)['category']\n",
    "        for line in f\n",
    "    }\n",
    "for i, (user_id, category) in enumerate(purchases.items()):\n",
    "    if i < 3:\n",
    "        print(f\"{user_id}: {category}\")\n",
    "    else:\n",
    "        break"
   ]
  },
  {
   "cell_type": "code",
   "execution_count": 36,
   "id": "1532c624-abe9-4886-8509-66332cb8e8b2",
   "metadata": {},
   "outputs": [],
   "source": [
    "with open('C:/Users/XE/Downloads/visit_log.csv', 'r', encoding='utf-8') as s, \\\n",
    "     open('C:/Users/XE/Downloads/funnel.csv', 'w', encoding='utf-8') as d:\n",
    "    \n",
    "    for line in s:\n",
    "        user_id, source = line.strip().split(',')\n",
    "        if user_id in purchases:\n",
    "            category = purchases[user_id]\n",
    "            d.write(f'{user_id},{source},{category}\\n')\n",
    "            "
   ]
  },
  {
   "cell_type": "code",
   "execution_count": 37,
   "id": "d4f41044-7f80-461d-bfb9-9b2c435b7f6b",
   "metadata": {},
   "outputs": [
    {
     "name": "stdout",
     "output_type": "stream",
     "text": [
      "user_id,source,category\n",
      "1840e0b9d4,other,Продукты\n",
      "4e4f90fcfb,context,Электроника\n"
     ]
    }
   ],
   "source": [
    "with open('C:/Users/XE/Downloads/funnel.csv', 'r', encoding='utf-8') as file:\n",
    "    for i, line in enumerate(file):\n",
    "        if i < 3:\n",
    "            print(line.strip())\n",
    "        else:\n",
    "            break"
   ]
  },
  {
   "cell_type": "code",
   "execution_count": null,
   "id": "8aa7369b-6282-4728-8f92-90267d6f1b42",
   "metadata": {},
   "outputs": [],
   "source": []
  }
 ],
 "metadata": {
  "kernelspec": {
   "display_name": "Python 3 (ipykernel)",
   "language": "python",
   "name": "python3"
  },
  "language_info": {
   "codemirror_mode": {
    "name": "ipython",
    "version": 3
   },
   "file_extension": ".py",
   "mimetype": "text/x-python",
   "name": "python",
   "nbconvert_exporter": "python",
   "pygments_lexer": "ipython3",
   "version": "3.9.19"
  }
 },
 "nbformat": 4,
 "nbformat_minor": 5
}
