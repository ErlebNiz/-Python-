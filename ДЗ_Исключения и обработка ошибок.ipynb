{
 "cells": [
  {
   "cell_type": "markdown",
   "id": "bedd5d73-e0b0-470d-91b2-663d102fdc39",
   "metadata": {},
   "source": [
    "### Задание 1"
   ]
  },
  {
   "cell_type": "code",
   "execution_count": 10,
   "id": "05dca513-34ac-4fb3-a692-381a9c9c7c85",
   "metadata": {},
   "outputs": [],
   "source": [
    "from datetime import datetime, timedelta"
   ]
  },
  {
   "cell_type": "code",
   "execution_count": 11,
   "id": "dc098a60-3d82-41b1-8ae1-0c8fa28c2af1",
   "metadata": {},
   "outputs": [],
   "source": [
    "#The Moscow Times\n",
    "date_str1 = \"Wednesday, October 2, 2002\"\n",
    "date_1 = datetime.strptime(date_str_1, \"%A, %B %d, %Y\")\n",
    "\n",
    "#The Guardian\n",
    "date_str2 = \"Friday, 11.10.13\"\n",
    "date_2 = datetime.strptime(date_str_2, \"%A, %d.%m.%y\")\n",
    "\n",
    "#Daily News\n",
    "date_str3 = \"Thursday, 18 August 1977\"\n",
    "date_obj_3 = datetime.strptime(date_str_3, \"%A, %d %B %Y\")"
   ]
  },
  {
   "cell_type": "markdown",
   "id": "e3152880-dc3e-49d4-a5dd-062c19fffbee",
   "metadata": {},
   "source": [
    "### Задание 2"
   ]
  },
  {
   "cell_type": "code",
   "execution_count": 12,
   "id": "981b1a4a-8cf5-45a1-86b6-c7255a2a3f24",
   "metadata": {},
   "outputs": [],
   "source": [
    "def check_correct_dt(stream):\n",
    "    results = []\n",
    "    for date_str in stream:\n",
    "        try:\n",
    "            datetime.strptime(date_str, '%Y-%m-%d')\n",
    "            results.append(True)\n",
    "        except ValueError:\n",
    "            # Если возникает ошибка, дата некорректна\n",
    "            results.append(False)\n",
    "    return results\n",
    "    \n",
    "    "
   ]
  },
  {
   "cell_type": "code",
   "execution_count": 13,
   "id": "dd8b69e2-3b40-4d0a-a54c-dbd025007be2",
   "metadata": {},
   "outputs": [
    {
     "data": {
      "text/plain": [
       "[True, False, False]"
      ]
     },
     "execution_count": 13,
     "metadata": {},
     "output_type": "execute_result"
    }
   ],
   "source": [
    "stream = ['2018-04-02', '2018-02-29', '2018-19-02']\n",
    "result = check_correct_dt(stream)\n",
    "result"
   ]
  },
  {
   "cell_type": "markdown",
   "id": "6e6236c8-21a2-4ac2-8527-ee993ebeb708",
   "metadata": {},
   "source": [
    "### Задание 3"
   ]
  },
  {
   "cell_type": "code",
   "execution_count": 15,
   "id": "b9eaacab-4a7f-4542-9440-efe8a061317a",
   "metadata": {},
   "outputs": [],
   "source": [
    "def date_range(start_date, end_date):\n",
    "    try:\n",
    "        start = datetime.strptime(start_date, '%Y-%m-%d')\n",
    "        end = datetime.strptime(end_date, '%Y-%m-%d')\n",
    "        \n",
    "        if start > end:\n",
    "            return []\n",
    "        \n",
    "        \n",
    "        date_list = []\n",
    "        current_date = start\n",
    "        while current_date <= end:\n",
    "            date_list.append(current_date.strftime('%Y-%m-%d'))\n",
    "            current_date += timedelta(days=1)\n",
    "        \n",
    "        return date_list\n",
    "    \n",
    "    except ValueError:\n",
    "        return []\n"
   ]
  },
  {
   "cell_type": "markdown",
   "id": "cfe92b04-3be7-43ba-b32d-424d86903e69",
   "metadata": {},
   "source": [
    "### Задание 4.1"
   ]
  },
  {
   "cell_type": "markdown",
   "id": "f02c088c-20f5-4e33-a330-5d0d892975fa",
   "metadata": {},
   "source": [
    "##### Ошибка <span style=\"color:red\">IndexError: list index out of range</span> \n",
    "##### возникает, когда коллега пытается получить доступ к элементу списка по индексу, \n",
    "##### который выходит за пределы допустимого диапазона  \n",
    "##### индексов для данного списка. Если у списка 3 элемента, \n",
    "##### попытка обратиться к элементу с индексом 3 или больше вызовет эту ошибку, из за того, что   \n",
    "##### индексация в Python начинается с 0, и допустимые индексы для этого списка будут 0, 1 и 2."
   ]
  },
  {
   "cell_type": "markdown",
   "id": "1b75f9ec-6fe7-41f6-bf70-aef10e4c190c",
   "metadata": {},
   "source": [
    "### Задание 4.2"
   ]
  },
  {
   "cell_type": "markdown",
   "id": "c4738b0e-d264-4bc1-893a-74519134fc8e",
   "metadata": {},
   "source": [
    "##### Функция <span style = \"color:#59afe1\">delete_and_return_last_user</span> имеет параметр <span style = \"color:#59afe1\">default_list</span> со значением по умолчанию. \n",
    "##### В Python, если используется изменяемый объект (например, список) в качестве значения по умолчанию для параметра функции,\n",
    "##### измененное состояние при однократном вызове функции сохраняется в последующих вызовах.\n"
   ]
  },
  {
   "cell_type": "code",
   "execution_count": null,
   "id": "778f229f-1521-4849-8ae4-8febba0f77f9",
   "metadata": {},
   "outputs": [],
   "source": []
  }
 ],
 "metadata": {
  "kernelspec": {
   "display_name": "Python 3 (ipykernel)",
   "language": "python",
   "name": "python3"
  },
  "language_info": {
   "codemirror_mode": {
    "name": "ipython",
    "version": 3
   },
   "file_extension": ".py",
   "mimetype": "text/x-python",
   "name": "python",
   "nbconvert_exporter": "python",
   "pygments_lexer": "ipython3",
   "version": "3.9.19"
  }
 },
 "nbformat": 4,
 "nbformat_minor": 5
}
